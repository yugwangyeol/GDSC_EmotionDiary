{
 "cells": [
  {
   "cell_type": "code",
   "execution_count": null,
   "metadata": {},
   "outputs": [],
   "source": [
    "\n",
    "from fast_bert.data_cls import BertDataBunch\n",
    "\n",
    "databunch = BertDataBunch('Data3\\data', 'Data3\\label',\n",
    "                          tokenizer='bert-base-uncased',\n",
    "                          train_file='train.csv',\n",
    "                          val_file='val.csv',\n",
    "                          label_file='labels.csv',\n",
    "                          text_col='text',\n",
    "                          label_col='label',\n",
    "                          batch_size_per_gpu=8,\n",
    "                          max_seq_length=512,\n",
    "                          multi_gpu=False,\n",
    "                          multi_label=False,\n",
    "                          model_type='bert')"
   ]
  },
  {
   "cell_type": "code",
   "execution_count": null,
   "metadata": {},
   "outputs": [],
   "source": [
    "from fast_bert.learner_cls import BertLearner\n",
    "from fast_bert.metrics import accuracy\n",
    "import logging\n",
    "import torch\n",
    "\n",
    "logger = logging.getLogger()\n",
    "device_cuda = torch.device(\"cuda\")\n",
    "metrics = [{'name': 'accuracy', 'function': accuracy}]\n",
    "\n",
    "learner = BertLearner.from_pretrained_model(\n",
    "\t\t\t\t\t\tdatabunch,\n",
    "\t\t\t\t\t\tpretrained_path='bert-base-uncased',\n",
    "\t\t\t\t\t\tmetrics=metrics,\n",
    "\t\t\t\t\t\tdevice=device_cuda,\n",
    "\t\t\t\t\t\tlogger=logger,\n",
    "\t\t\t\t\t\toutput_dir='Output',\n",
    "\t\t\t\t\t\tfinetuned_wgts_path=None,\n",
    "\t\t\t\t\t\twarmup_steps=500,\n",
    "\t\t\t\t\t\tmulti_gpu=False,\n",
    "\t\t\t\t\t\tis_fp16=True,\n",
    "\t\t\t\t\t\tmulti_label=False,\n",
    "\t\t\t\t\t\tlogging_steps=50)"
   ]
  },
  {
   "cell_type": "code",
   "execution_count": null,
   "metadata": {},
   "outputs": [],
   "source": [
    "#learner.lr_find(start_lr=1e-5,optimizer_type='lamb')"
   ]
  },
  {
   "cell_type": "code",
   "execution_count": null,
   "metadata": {},
   "outputs": [],
   "source": [
    "learner.fit(epochs=15,\n",
    "\t\t\tlr=1e-5,\n",
    "\t\t\tvalidate=True, \t# Evaluate the model after each epoch\n",
    "\t\t\tschedule_type=\"warmup_cosine\",\n",
    "\t\t\toptimizer_type=\"lamb\")"
   ]
  },
  {
   "cell_type": "code",
   "execution_count": null,
   "metadata": {},
   "outputs": [],
   "source": [
    "learner.save_model()"
   ]
  },
  {
   "cell_type": "code",
   "execution_count": null,
   "metadata": {},
   "outputs": [],
   "source": [
    "doc = \"\"\"\n",
    "        I knew that my girlfriend was depressed for a long time and actively recommended me to visit the hospital. \n",
    "        I visited the hospital for the first time last week and scored more than 30 points on the depression scale test. \n",
    "        Currently, he is under medication, and the hospital recommends counseling treatment at the same time, so he is also considering this part.\n",
    "\n",
    "        In this situation, I'm so worried about how I should support this person.\n",
    "        My girlfriend is a job seeker who graduated from a top university (I mean I've managed my life well on my own) and her cycle is not fixed.\n",
    "\n",
    "        I'm worried that there's no fixed cycle for a day. \n",
    "        Being lethargic at home all day and how to deal with a girlfriend who feels ashamed that she has done nothing herself in that lethargy... \n",
    "        I want you to look at my actual case and answer each one. \n",
    "\n",
    "        As a boyfriend, I am an office worker living with my family. \n",
    "        I am also aware of the lack of time limitations even though I cannot always be with you and try to do something together.\n",
    "\n",
    "        1. I don't know what I should tell my girlfriend to get out of bed and rest well, who feels ashamed of herself without doing anything because she is lazy. \n",
    "        I think I should do this, too, as I say every time, \"Would you like to wash up and think about it?\" in a gentle and soothing way. \n",
    "        How am I supposed to deal with this girlfriend's sense of shame and how am I supposed to treat this person?\n",
    "\n",
    "        2. When my girlfriend, who is a job seeker but still has insufficient specifications, spent a proud day doing small things such as organizing her room, nail clippers, etc., \n",
    "        I'm a person who says, \"Why don't you go outside the house and prepare for a certificate?\" Should I compliment you on small things? \n",
    "        My girlfriend knows that I'm told to go out, but I think it's good for depression when I go out and work and have a regular life.\n",
    "\n",
    "        In the case of No. 2, even if I say it in a good way, the good atmosphere suddenly subsides, so I'm determined to say it once, but if I say it, I can't undo the down feeling. \n",
    "        And I always worry about what if my girlfriend, who always lives alone, makes an extreme decision. I can't be with you all the time.\n",
    "\n",
    "        I'd like psychiatrists to tell me how to treat someone with depression. I really like and love this person and I'm really rooting for him. I hope you can help me.\n",
    "      \"\"\""
   ]
  },
  {
   "cell_type": "code",
   "execution_count": null,
   "metadata": {},
   "outputs": [],
   "source": [
    "texts = ['I really love the Netflix original movies',\n",
    "\t\t 'this movie is not worth watching',\n",
    "         doc]\n",
    "predictions = learner.predict_batch(texts)"
   ]
  },
  {
   "cell_type": "code",
   "execution_count": 1,
   "metadata": {},
   "outputs": [],
   "source": [
    "from fast_bert.prediction import BertClassificationPredictor\n",
    "\n",
    "#import os\n",
    "#os.environ['CUDA_LAUNCH_BLOCKING'] = \"1\"\n",
    "#os.environ[\"CUDA_VISIBLE_DEVICES\"] = \"0\"\n",
    "\n",
    "MODEL_PATH = 'Output_elice/model_out'\n",
    "\n",
    "predictor = BertClassificationPredictor(\n",
    "\t\t\t\tmodel_path=MODEL_PATH,\n",
    "\t\t\t\tlabel_path='Data3/label', # location for labels.csv file\n",
    "\t\t\t\tmulti_label=False,\n",
    "\t\t\t\tmodel_type='bert',\n",
    "\t\t\t\tdo_lower_case=False,\n",
    "\t\t\t\tdevice=None) # set custom torch.device, defaults to cuda if available"
   ]
  },
  {
   "cell_type": "code",
   "execution_count": 10,
   "metadata": {},
   "outputs": [
    {
     "ename": "IndentationError",
     "evalue": "unindent does not match any outer indentation level (<tokenize>, line 28)",
     "output_type": "error",
     "traceback": [
      "\u001b[1;36m  File \u001b[1;32m<tokenize>:28\u001b[1;36m\u001b[0m\n\u001b[1;33m    \"\u001b[0m\n\u001b[1;37m    ^\u001b[0m\n\u001b[1;31mIndentationError\u001b[0m\u001b[1;31m:\u001b[0m unindent does not match any outer indentation level\n"
     ]
    }
   ],
   "source": [
    "doc = \"\"\"\n",
    "        I knew that my girlfriend was depressed for a long time and actively recommended me to visit the hospital. \n",
    "        I visited the hospital for the first time last week and scored more than 30 points on the depression scale test. \n",
    "        Currently, he is under medication, and the hospital recommends counseling treatment at the same time, so he is also considering this part.\n",
    "\n",
    "        In this situation, I'm so worried about how I should support this person.\n",
    "        My girlfriend is a job seeker who graduated from a top university (I mean I've managed my life well on my own) and her cycle is not fixed.\n",
    "\n",
    "        I'm worried that there's no fixed cycle for a day. \n",
    "        Being lethargic at home all day and how to deal with a girlfriend who feels ashamed that she has done nothing herself in that lethargy... \n",
    "        I want you to look at my actual case and answer each one. \n",
    "\n",
    "        As a boyfriend, I am an office worker living with my family. \n",
    "        I am also aware of the lack of time limitations even though I cannot always be with you and try to do something together.\n",
    "\n",
    "        1. I don't know what I should tell my girlfriend to get out of bed and rest well, who feels ashamed of herself without doing anything because she is lazy. \n",
    "        I think I should do this, too, as I say every time, \"Would you like to wash up and think about it?\" in a gentle and soothing way. \n",
    "        How am I supposed to deal with this girlfriend's sense of shame and how am I supposed to treat this person?\n",
    "\n",
    "        2. When my girlfriend, who is a job seeker but still has insufficient specifications, spent a proud day doing small things such as organizing her room, nail clippers, etc., \n",
    "        I'm a person who says, \"Why don't you go outside the house and prepare for a certificate?\" Should I compliment you on small things? \n",
    "        My girlfriend knows that I'm told to go out, but I think it's good for depression when I go out and work and have a regular life.\n",
    "\n",
    "        In the case of No. 2, even if I say it in a good way, the good atmosphere suddenly subsides, so I'm determined to say it once, but if I say it, I can't undo the down feeling. \n",
    "        And I always worry about what if my girlfriend, who always lives alone, makes an extreme decision. I can't be with you all the time.\n",
    "\n",
    "        I'd like psychiatrists to tell me how to treat someone with depression. I really like and love this person and I'm really rooting for him. I hope you can help me.\n",
    "      \"\"\""
   ]
  },
  {
   "cell_type": "code",
   "execution_count": null,
   "metadata": {},
   "outputs": [],
   "source": [
    "# Single prediction\n",
    "single_prediction = predictor.predict(\"just get me result for this text\")\n",
    "\n",
    "# Batch predictions\n",
    "texts = ['I really love the Netflix original movies',\n",
    "\t\t 'this movie is not worth watching',\n",
    "        doc]\n",
    "\n",
    "multiple_predictions = predictor.predict_batch(texts)"
   ]
  },
  {
   "cell_type": "code",
   "execution_count": null,
   "metadata": {},
   "outputs": [],
   "source": [
    "multiple_predictions"
   ]
  },
  {
   "cell_type": "code",
   "execution_count": null,
   "metadata": {},
   "outputs": [],
   "source": [
    "import torch\n",
    "torch.cuda.is_available()"
   ]
  },
  {
   "cell_type": "code",
   "execution_count": 2,
   "metadata": {},
   "outputs": [
    {
     "name": "stderr",
     "output_type": "stream",
     "text": [
      "c:\\ProgramData\\Anaconda3\\envs\\fest-bert\\lib\\site-packages\\fast_bert\\learner_cls.py:611: UserWarning: DataFrame columns are not unique, some columns will be omitted.\n",
      "  results = result_df.to_dict(orient=\"records\")\n"
     ]
    }
   ],
   "source": [
    "single_prediction = predictor.predict(\"just get me result for this text\")"
   ]
  },
  {
   "cell_type": "code",
   "execution_count": 3,
   "metadata": {},
   "outputs": [
    {
     "data": {
      "text/plain": [
       "[('0', 0.9995478987693787), ('1', 0.00030141128809191287)]"
      ]
     },
     "execution_count": 3,
     "metadata": {},
     "output_type": "execute_result"
    }
   ],
   "source": [
    "single_prediction"
   ]
  },
  {
   "cell_type": "code",
   "execution_count": 6,
   "metadata": {},
   "outputs": [
    {
     "data": {
      "text/plain": [
       "str"
      ]
     },
     "execution_count": 6,
     "metadata": {},
     "output_type": "execute_result"
    }
   ],
   "source": [
    "type(single_prediction[0][0])"
   ]
  },
  {
   "cell_type": "code",
   "execution_count": 16,
   "metadata": {},
   "outputs": [
    {
     "name": "stdout",
     "output_type": "stream",
     "text": [
      "nondepression\n"
     ]
    },
    {
     "name": "stderr",
     "output_type": "stream",
     "text": [
      "C:\\ProgramData\\Anaconda3\\envs\\fest-bert\\lib\\site-packages\\fast_bert\\learner_cls.py:611: UserWarning: DataFrame columns are not unique, some columns will be omitted.\n",
      "  results = result_df.to_dict(orient=\"records\")\n"
     ]
    }
   ],
   "source": [
    "!python predict.py --text=doc"
   ]
  },
  {
   "cell_type": "code",
   "execution_count": 15,
   "metadata": {},
   "outputs": [
    {
     "name": "stderr",
     "output_type": "stream",
     "text": [
      "usage: predict.py [-h] --text TEXT\n",
      "predict.py: error: unrecognized arguments: am so happy'\n"
     ]
    }
   ],
   "source": [
    "!python predict.py --text='I am so happy'"
   ]
  },
  {
   "cell_type": "code",
   "execution_count": 3,
   "metadata": {},
   "outputs": [
    {
     "name": "stdout",
     "output_type": "stream",
     "text": [
      "I knew that my girlfriend was depressed for a long time and actively recommended me to visit the hospital.\n",
      "I visited the hospital for the first time last week and scored more than 30 points on the depression scale test.\n",
      "Currently, he is under medication, and the hospital recommends counseling treatment at the same time, so he is also considering this part.\n",
      "\n",
      "In this situation, I'm so worried about how I should support this person.\n",
      "My girlfriend is a job seeker who graduated from a top university (I mean I've managed my life well on my own) and her cycle is not fixed.\n",
      "\n",
      "I'm worried that there's no fixed cycle for a day.\n",
      "Being lethargic at home all day and how to deal with a girlfriend who feels ashamed that she has done nothing herself in that lethargy...\n",
      "I want you to look at my actual case and answer each one.\n",
      "\n",
      "As a boyfriend, I am an office worker living with my family.\n",
      "I am also aware of the lack of time limitations even though I cannot always be with you and try to do something together.\n",
      "\n",
      "1. I don't know what I should tell my girlfriend to get out of bed and rest well, who feels ashamed of herself without doing anything because she is lazy.\n",
      "I think I should do this, too, as I say every time, \"Would you like to wash up and think about it?\" in a gentle and soothing way.\n",
      "How am I supposed to deal with this girlfriend's sense of shame and how am I supposed to treat this person?\n",
      "\n",
      "2. When my girlfriend, who is a job seeker but still has insufficient specifications, spent a proud day doing small things such as organizing her room, nail clippers, etc.,\n",
      "I'm a person who says, \"Why don't you go outside the house and prepare for a certificate?\" Should I compliment you on small things?\n",
      "My girlfriend knows that I'm told to go out, but I think it's good for depression when I go out and work and have a regular life.\n",
      "\n",
      "In the case of No. 2, even if I say it in a good way, the good atmosphere suddenly subsides, so I'm determined to say it once, but if I say it, I can't undo the down feeling.\n",
      "And I always worry about what if my girlfriend, who always lives alone, makes an extreme decision. I can't be with you all the time.\n",
      "\n",
      "I'd like psychiatrists to tell me how to treat someone with depression. I really like and love this person and I'm really rooting for him. I hope you can help me.\n"
     ]
    }
   ],
   "source": [
    "text = []\n",
    "f = open(\"test/user_1/diary/C_1/content.txt\", 'r')\n",
    "lines = f.readlines()\n",
    "for line in lines:\n",
    "    line = line.strip() # 줄 끝의 줄 바꿈 문자를 제거한다.\n",
    "    print(line)\n",
    "    text.append(line)\n",
    "f.close()"
   ]
  },
  {
   "cell_type": "code",
   "execution_count": 5,
   "metadata": {},
   "outputs": [
    {
     "data": {
      "text/plain": [
       "'I knew that my girlfriend was depressed for a long time and actively recommended me to visit the hospital.I visited the hospital for the first time last week and scored more than 30 points on the depression scale test.Currently, he is under medication, and the hospital recommends counseling treatment at the same time, so he is also considering this part.In this situation, I\\'m so worried about how I should support this person.My girlfriend is a job seeker who graduated from a top university (I mean I\\'ve managed my life well on my own) and her cycle is not fixed.I\\'m worried that there\\'s no fixed cycle for a day.Being lethargic at home all day and how to deal with a girlfriend who feels ashamed that she has done nothing herself in that lethargy...I want you to look at my actual case and answer each one.As a boyfriend, I am an office worker living with my family.I am also aware of the lack of time limitations even though I cannot always be with you and try to do something together.1. I don\\'t know what I should tell my girlfriend to get out of bed and rest well, who feels ashamed of herself without doing anything because she is lazy.I think I should do this, too, as I say every time, \"Would you like to wash up and think about it?\" in a gentle and soothing way.How am I supposed to deal with this girlfriend\\'s sense of shame and how am I supposed to treat this person?2. When my girlfriend, who is a job seeker but still has insufficient specifications, spent a proud day doing small things such as organizing her room, nail clippers, etc.,I\\'m a person who says, \"Why don\\'t you go outside the house and prepare for a certificate?\" Should I compliment you on small things?My girlfriend knows that I\\'m told to go out, but I think it\\'s good for depression when I go out and work and have a regular life.In the case of No. 2, even if I say it in a good way, the good atmosphere suddenly subsides, so I\\'m determined to say it once, but if I say it, I can\\'t undo the down feeling.And I always worry about what if my girlfriend, who always lives alone, makes an extreme decision. I can\\'t be with you all the time.I\\'d like psychiatrists to tell me how to treat someone with depression. I really like and love this person and I\\'m really rooting for him. I hope you can help me.'"
      ]
     },
     "execution_count": 5,
     "metadata": {},
     "output_type": "execute_result"
    }
   ],
   "source": [
    "str = ''.join(text)\n",
    "str"
   ]
  },
  {
   "cell_type": "code",
   "execution_count": null,
   "metadata": {},
   "outputs": [],
   "source": []
  }
 ],
 "metadata": {
  "kernelspec": {
   "display_name": "TextClassification",
   "language": "python",
   "name": "python3"
  },
  "language_info": {
   "codemirror_mode": {
    "name": "ipython",
    "version": 3
   },
   "file_extension": ".py",
   "mimetype": "text/x-python",
   "name": "python",
   "nbconvert_exporter": "python",
   "pygments_lexer": "ipython3",
   "version": "3.9.7"
  },
  "orig_nbformat": 4,
  "vscode": {
   "interpreter": {
    "hash": "94d5d75ef247065ea67ac025c839e2495671fd29a161cc4d7dc5f3d82458b9f9"
   }
  }
 },
 "nbformat": 4,
 "nbformat_minor": 2
}
